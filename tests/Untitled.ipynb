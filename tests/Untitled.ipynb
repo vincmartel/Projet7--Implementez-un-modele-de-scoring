{
 "cells": [
  {
   "cell_type": "code",
   "execution_count": 11,
   "id": "2d5ef6da-1e69-42c1-86ce-7cdb09125d98",
   "metadata": {},
   "outputs": [
    {
     "ename": "ImportError",
     "evalue": "attempted relative import with no known parent package",
     "output_type": "error",
     "traceback": [
      "\u001b[1;31m---------------------------------------------------------------------------\u001b[0m",
      "\u001b[1;31mImportError\u001b[0m                               Traceback (most recent call last)",
      "Cell \u001b[1;32mIn[11], line 4\u001b[0m\n\u001b[0;32m      2\u001b[0m \u001b[38;5;28;01mimport\u001b[39;00m \u001b[38;5;21;01mpytest\u001b[39;00m\n\u001b[0;32m      3\u001b[0m \u001b[38;5;66;03m#from app import app  # Replace with the actual name of your Flask app\u001b[39;00m\n\u001b[1;32m----> 4\u001b[0m \u001b[38;5;28;01mfrom\u001b[39;00m \u001b[38;5;21;01m.\u001b[39;00m\u001b[38;5;21;01m.\u001b[39;00m\u001b[38;5;21;01mapp\u001b[39;00m \u001b[38;5;28;01mimport\u001b[39;00m app\n\u001b[0;32m      5\u001b[0m \u001b[38;5;66;03m#from ..notebooks_et_scripts.app import app\u001b[39;00m\n\u001b[0;32m      7\u001b[0m \u001b[38;5;129m@pytest\u001b[39m\u001b[38;5;241m.\u001b[39mfixture\n\u001b[0;32m      8\u001b[0m \u001b[38;5;28;01mdef\u001b[39;00m \u001b[38;5;21mclient\u001b[39m():\n",
      "\u001b[1;31mImportError\u001b[0m: attempted relative import with no known parent package"
     ]
    }
   ],
   "source": [
    "import json\n",
    "import pytest\n",
    "#from app import app  # Replace with the actual name of your Flask app\n",
    "from ..app import app\n",
    "#from ..notebooks_et_scripts.app import app\n",
    "\n",
    "@pytest.fixture\n",
    "def client():\n",
    "    app.config['TESTING'] = True\n",
    "    client = app.test_client()\n",
    "    yield client\n",
    "\n",
    "def test_prediction_response(client):\n",
    "    # Test qui vérifie si l'API retourne les paramètres 'pred' et 'decision'\n",
    "    mock_data = {\n",
    "        'Identifiant du prêt': 100002  # Replace with a valid loan ID\n",
    "    }\n",
    "\n",
    "    # Send a POST request to the /prediction endpoint\n",
    "    response = client.post('/prediction', json=mock_data)\n",
    "    data = json.loads(response.data.decode('utf-8'))\n",
    "\n",
    "    # Check if the response contains the expected keys\n",
    "    assert 'pred' in data\n",
    "    assert 'decision' in data\n",
    "\n",
    "\n",
    "\n",
    "def test_prediction_pred_decision(client):\n",
    "    # Test qui vérifie si l'API retourne une valeur de 'pred' comprise entre 0 et 1, et une valeur de décision égale à 'prêt accordé' ou 'prêt refusé'  \n",
    "    mock_data = {\n",
    "        'Identifiant du prêt': 100002  # Replace with a valid loan ID\n",
    "    }\n",
    "    \n",
    "    response = client.post('/prediction', json=mock_data)\n",
    "    data = json.loads(response.data.decode('utf-8'))\n",
    "    assert (data['pred']>0 and data['pred']<1)\n",
    "    assert (data['decision']=='prêt accordé' or data['decision']=='prêt refusé')\n",
    "\n",
    "\n",
    "if __name__ == '__main__':\n",
    "    pytest.main()"
   ]
  },
  {
   "cell_type": "code",
   "execution_count": null,
   "id": "04c5aa0d-1914-4163-9739-85156ddd64d9",
   "metadata": {},
   "outputs": [],
   "source": []
  },
  {
   "cell_type": "code",
   "execution_count": null,
   "id": "a6e8c406-f392-4b6e-8816-e024fcf3bc24",
   "metadata": {},
   "outputs": [],
   "source": []
  }
 ],
 "metadata": {
  "kernelspec": {
   "display_name": "Python 3 (ipykernel)",
   "language": "python",
   "name": "python3"
  },
  "language_info": {
   "codemirror_mode": {
    "name": "ipython",
    "version": 3
   },
   "file_extension": ".py",
   "mimetype": "text/x-python",
   "name": "python",
   "nbconvert_exporter": "python",
   "pygments_lexer": "ipython3",
   "version": "3.11.7"
  }
 },
 "nbformat": 4,
 "nbformat_minor": 5
}
